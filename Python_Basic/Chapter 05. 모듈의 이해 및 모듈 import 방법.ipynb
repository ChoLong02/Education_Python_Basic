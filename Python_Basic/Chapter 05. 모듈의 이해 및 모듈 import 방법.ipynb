{
 "cells": [
  {
   "cell_type": "markdown",
   "metadata": {},
   "source": [
    "### 학습목표\n",
    " 1. module의 이해 및 module import 하기"
   ]
  },
  {
   "cell_type": "markdown",
   "metadata": {},
   "source": [
    "+ 파이썬은 모듈이라는 기능을 활용해 코드를 분리하고 공유함\n",
    "+ 모듈은 여러 변수와 함수를 가지고 있는 집합체로, 크게 '표준모듈'과 '외부 모듈'로 나뉜다.\n",
    "+ 파이썬에 기본적으로 내장되어 있는 모듈을 '표준모듈'이라고 한다.\n",
    "+ 다른 사람들이 만들어서 공개한 모듈을 '외부 모듈'이라고 한다.\n",
    "+ 일반적으로 모듈을 가져오는 import 구문은 코드 가장 위에 작성한다.\n",
    "+ 표준모듈이 궁금할 때는 '파이썬 공식 문서'를 확인 \n",
    "+ [파이썬 공식문서](https://docs.python.org/3/library/index.html)\n",
    "\n",
    "※ 파이썬의 모듈은 단순한 파이썬 파일이 아님. import 구문은 가장 먼저 현재 폴더에서 import 뒤에 적어 놓은 파일을 찾는다. 만약 하단의 코드와 같이 random 모듈을 import하고 파일이름을 random.py라고 생성하면 type 오류가 발생\n",
    "함. random.py라는 이름으로 파일을 저장하고 실행하면 실제 파이썬이 제공하는 random 모듈이 아니라, 같은 파일(random.py)을 읽어 문제가 발생, **따라서 모듈과 같은 이름으로 파일을 저장하지 않게 주의해야 함!!!!!!!**\n",
    "\n",
    "```python\n",
    "   # random.py로 저장\n",
    "   import random\n",
    "   print('# random 모듈 사용')\n",
    "```"
   ]
  },
  {
   "cell_type": "markdown",
   "metadata": {},
   "source": [
    "### **모듈 임포트**\n",
    " + 그동안 사용했던 함수들 처럼, 다양한 기능들이 미리 함수로 구현되어 모듈 형태로 제공\n",
    " + 대표적으로 추후 과정에서 사용하게 될 아래의 모듈들이 존재\n",
    "\n",
    " + requests - HTTP 요청/응답 모듈\n",
    " + numpy - 수치해석 모듈 \n",
    " + pandas - 데이터 분석 모듈\n",
    " + Beautifulsoup4, Scripy, Selenium - 웹 크롤링\n",
    " + ScikitLearn - 머신러닝\n",
    " + Matplotlib, Seaborn - 데이터 시각화\n",
    " + tensorflow, keras, PyTorch - 인공지능(AI)"
   ]
  },
  {
   "cell_type": "code",
   "execution_count": null,
   "metadata": {},
   "outputs": [],
   "source": [
    "import requests\n",
    "resp = requests.get('http://naver.com')\n",
    "resp.text"
   ]
  },
  {
   "cell_type": "markdown",
   "metadata": {},
   "source": [
    "#### import \n",
    " - import를 사용하여 해당 모듈 전체를 import"
   ]
  },
  {
   "cell_type": "code",
   "execution_count": 2,
   "metadata": {},
   "outputs": [],
   "source": [
    "import math"
   ]
  },
  {
   "cell_type": "code",
   "execution_count": 3,
   "metadata": {},
   "outputs": [
    {
     "data": {
      "text/plain": [
       "3.141592653589793"
      ]
     },
     "execution_count": 3,
     "metadata": {},
     "output_type": "execute_result"
    }
   ],
   "source": [
    "math.pi"
   ]
  },
  {
   "cell_type": "code",
   "execution_count": 4,
   "metadata": {},
   "outputs": [
    {
     "data": {
      "text/plain": [
       "0.8623188722876839"
      ]
     },
     "execution_count": 4,
     "metadata": {},
     "output_type": "execute_result"
    }
   ],
   "source": [
    "math.cos(100)"
   ]
  },
  {
   "cell_type": "markdown",
   "metadata": {},
   "source": [
    "#### from import \n",
    " - 해당 모듈에서 특정한 타입만 import"
   ]
  },
  {
   "cell_type": "code",
   "execution_count": 5,
   "metadata": {},
   "outputs": [],
   "source": [
    "from math import pi\n",
    "from math import cos\n",
    "from math import pi, cos, sin # 등 여러개를 나열해도 됨\n",
    "#from math import sin"
   ]
  },
  {
   "cell_type": "code",
   "execution_count": 6,
   "metadata": {},
   "outputs": [
    {
     "data": {
      "text/plain": [
       "0.8623188722876839"
      ]
     },
     "execution_count": 6,
     "metadata": {},
     "output_type": "execute_result"
    }
   ],
   "source": [
    "cos(100)"
   ]
  },
  {
   "cell_type": "markdown",
   "metadata": {},
   "source": [
    "#### \\* 임포트\n",
    " - 해당 모듈내에 정의된 모든 것을 import\n",
    " - 일반적으로 사용이 권장되지 않음\n",
    " - 다른 모듈에 이름이 중복된 함수가 있을 수 있음(식별자 이름에서 충돌 발생 가능)"
   ]
  },
  {
   "cell_type": "code",
   "execution_count": null,
   "metadata": {},
   "outputs": [],
   "source": [
    "from math import *"
   ]
  },
  {
   "cell_type": "code",
   "execution_count": null,
   "metadata": {},
   "outputs": [],
   "source": [
    "cos(100)"
   ]
  },
  {
   "cell_type": "code",
   "execution_count": null,
   "metadata": {},
   "outputs": [],
   "source": [
    "from math import cos"
   ]
  },
  {
   "cell_type": "markdown",
   "metadata": {},
   "source": [
    "#### as \n",
    " - 모듈 import 시, alias(별명) 지정가능"
   ]
  },
  {
   "cell_type": "code",
   "execution_count": null,
   "metadata": {},
   "outputs": [],
   "source": [
    "import math as m\n",
    "m.exp(3)\n",
    "m.cos(100)"
   ]
  },
  {
   "cell_type": "markdown",
   "metadata": {},
   "source": [
    "#### sys 모듈"
   ]
  },
  {
   "cell_type": "code",
   "execution_count": null,
   "metadata": {},
   "outputs": [],
   "source": [
    "import sys\n",
    "sys.exit() #  프로그램 강제 종료"
   ]
  },
  {
   "cell_type": "markdown",
   "metadata": {},
   "source": [
    "#### os 모듈"
   ]
  },
  {
   "cell_type": "code",
   "execution_count": null,
   "metadata": {},
   "outputs": [],
   "source": [
    "import os\n",
    "\n",
    "print(os.name)  # 현재 운영체제\n",
    "print(os.getcwd())  # 현재 폴더"
   ]
  },
  {
   "cell_type": "markdown",
   "metadata": {},
   "source": [
    "#### 라이브러리와 프레임워크\n",
    "+ 라이브러리(library): 정상적인 제어를 하는 모듈\n",
    "+ 프레임워크(framework): 제어 역전이 발생하는 모듈"
   ]
  },
  {
   "cell_type": "code",
   "execution_count": null,
   "metadata": {},
   "outputs": [],
   "source": [
    "# 정상적인 제어 = 라이브러리\n",
    "# math 모듈은 모듈 내부의 기능을 '개발자'가 직접 호출해서 사용, \n",
    "# 개발자가 모듈의 기능을 호출한느 형태의 모듈을 라이브러리라고 한다.\n",
    "from math import sin, cos, tan, floor, ceil\n",
    "\n",
    "# sin, cos, tan을 구한다.\n",
    "print(sin(1))\n",
    "print(cos(1))\n",
    "print(tan(1))\n",
    "\n",
    "# 반면에 flask나 beautifulsoup와 같이 Flask 모듈이 제공하는 명령어를 실행하면 \n",
    "# Flask가 내부적으로 서버를 실행한 뒤 지정한 파일을 읽어 들여 적절한 상황에 실행하는\n",
    "# 모듈이 개발자가 작성한 코드를 실행하는 형태의 모듈을 프레임워크라고 한다.\n",
    "# 개발자가 모듈의 함수를 호출하는 것이 일반적인 제어의 흐름, 반대로 개발자가 만든 함수를 모듈이\n",
    "# 실행하는 것은 제어가 역전된 것, 제어의 역전"
   ]
  },
  {
   "cell_type": "markdown",
   "metadata": {},
   "source": [
    "#### 함수 데코레이터(decorator)\n",
    "+ @로 시작하는 구문을 파이썬에서는 '데코레이터'라고 부른다. = 꾸며주는 것\n",
    "+ 함수 데코레이터와 클래스 데코레이터로 나눈다.\n",
    "+ 함수 데코레이터는 함수의 앞 뒤에 꾸밀 부가적인 내용을, 혹은 반복할 내용을 데코레이터로 정의해서 손쉽게 사용할 수 있도록 한 것"
   ]
  },
  {
   "cell_type": "code",
   "execution_count": null,
   "metadata": {},
   "outputs": [],
   "source": [
    "# hello를 출력하는 함수\n",
    "def hello():\n",
    "    print('hello')\n",
    "# 데코레이터를 이용해 hello 출력 전과 후에 인사 시작, 인사 끝을 추가해본다."
   ]
  },
  {
   "cell_type": "code",
   "execution_count": null,
   "metadata": {},
   "outputs": [],
   "source": [
    "# 함수 데코레이터 생성\n",
    "def test(function):\n",
    "    def wrapper():\n",
    "        print('인사 시작')\n",
    "        function()\n",
    "        print('인사 끝')\n",
    "    return wrapper\n",
    "\n",
    "# 데코레이터를 붙여 함수 생성\n",
    "@test\n",
    "def hello():\n",
    "    print('hello')\n",
    "    \n",
    "# 함수 호출\n",
    "hello()\n",
    "\n",
    "# test() 함수에서 wrapper() 함수를 리턴하므로, 최종적으로 hello에 함수가 들어가 hello() 형태로 호출\n",
    "# 데코레이터를 사용하면 functools라는 모듈을 사용할 수 있고, 함수 데코레이터를 사용할 때 매개변수 등을 \n",
    "# 전달할수 있어 반복되는 구문이 많아질 때 소스의 가독성도 높이고 매우 유용하게 사용 가능"
   ]
  },
  {
   "cell_type": "markdown",
   "metadata": {},
   "source": [
    "#### 모듈 만들기\n",
    "1. 파이썬 파일을 생성한다.\n",
    "2. 외부에서 생성한 파이썬 파일을 읽어 들인다.\n",
    "\n",
    "+ 추가적으로 모듈을 구조화해서 거대한 모듈(패키지)을 만드는 기능도 제공\n",
    "※ 너무 간단하고 유연해서 모듈을 코드로 인식하고 실행해 버리는 문제 등이 발생 할 수 있음"
   ]
  },
  {
   "cell_type": "code",
   "execution_count": null,
   "metadata": {},
   "outputs": [],
   "source": [
    "# __name__==\"__main__\"\n",
    "\n",
    "#__name__\n",
    "# 프로그래밍 언어에서는 프로그램의 진입점을 엔트리 포인트 또는 메인이라고 부른다.\n",
    "# 엔트리포인트 또는 메인 내부에서의 __name__은 \"__main__\"이다.\n",
    "\n",
    "#모듈의 __name__\n",
    "#엔트리 포인트가 아니지만 엔트리 포인트 파일 내에서 import 되었기 때문에 모듈 내 코드가 실행된다. \n",
    "#모듈 내부에서 __name__을 출력하면 모듈의 이름을 나타낸다."
   ]
  },
  {
   "cell_type": "code",
   "execution_count": null,
   "metadata": {},
   "outputs": [],
   "source": [
    "# main.py 파일\n",
    "import test_module\n",
    "\n",
    "print('# 메인의 __name__ 출력하기')\n",
    "print(__name__)\n",
    "print()"
   ]
  },
  {
   "cell_type": "code",
   "execution_count": null,
   "metadata": {},
   "outputs": [],
   "source": [
    "# test_module.py 파일\n",
    "print('# 모듈의 __name__ 출력하기')\n",
    "print(__name__)\n",
    "print()"
   ]
  },
  {
   "cell_type": "code",
   "execution_count": null,
   "metadata": {},
   "outputs": [],
   "source": [
    "# __name__ 활용하기\n",
    "# 엔트리 포인트 파일 내부에서는 __name__이 \"__main__\"이라는 값을 갖는다\n",
    "# 이를 활용하면 현재 파일이 모듈로 실행되는지, 엔트리 포인트로 실행되는지 확인 할 수 있다.\n",
    "\n",
    "if __name__ == \"__main__\":\n",
    "     pass # 블라블라\n",
    "# 형태로 main일 때만 실행되게 "
   ]
  },
  {
   "cell_type": "markdown",
   "metadata": {},
   "source": [
    "#### 패키지\n",
    "+ pip = Python Package Index의 줄임말 = 패키지 관리 시스템\n",
    "+ 모듈이 모여서 구조를 이루면 패키지"
   ]
  },
  {
   "cell_type": "code",
   "execution_count": null,
   "metadata": {},
   "outputs": [],
   "source": [
    "# __init__.py 파일\n",
    "# 패키지를 읽을 때 어떤 처리를 수행해야 하거나 패키지 내부의 모듈들을 한꺼번에 가져오고 싶을 때가 있다. \n",
    "# 이럴 때 패키지 폴더 내부에 __init__.py 파일을 만들어 사용한다.\n",
    "# 패키지를 읽어들일 때 __init__.py를 가장 먼저 실행한다. 따라서 패키지와 관련된 초기화 처리 등을 할 수 있다.\n",
    "# __init__.py에서는 __all__이라는 이름의 리스트를 만드는데, 이 리스트에 지정한 모듈들이 \n",
    "# from <패키지 이름> import *를 할 때 전부 읽어 들여진다.\n",
    "\n",
    "# 파이썬 3.3버전 이전에서는 __init__.py 파일이 무조건 있어야 패키지로 작동, 이후 버전에서는 없어도 가능"
   ]
  }
 ],
 "metadata": {
  "kernelspec": {
   "display_name": "Python 3",
   "language": "python",
   "name": "python3"
  },
  "language_info": {
   "codemirror_mode": {
    "name": "ipython",
    "version": 3
   },
   "file_extension": ".py",
   "mimetype": "text/x-python",
   "name": "python",
   "nbconvert_exporter": "python",
   "pygments_lexer": "ipython3",
   "version": "3.7.6"
  }
 },
 "nbformat": 4,
 "nbformat_minor": 4
}
